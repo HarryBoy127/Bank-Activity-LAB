{
 "cells": [
  {
   "cell_type": "code",
   "execution_count": 8,
   "id": "f3103d1a",
   "metadata": {},
   "outputs": [],
   "source": [
    "import pandas as pd\n",
    "import csv"
   ]
  },
  {
   "cell_type": "code",
   "execution_count": 9,
   "id": "7f68263b",
   "metadata": {},
   "outputs": [
    {
     "data": {
      "text/html": [
       "<div>\n",
       "<style scoped>\n",
       "    .dataframe tbody tr th:only-of-type {\n",
       "        vertical-align: middle;\n",
       "    }\n",
       "\n",
       "    .dataframe tbody tr th {\n",
       "        vertical-align: top;\n",
       "    }\n",
       "\n",
       "    .dataframe thead th {\n",
       "        text-align: right;\n",
       "    }\n",
       "</style>\n",
       "<table border=\"1\" class=\"dataframe\">\n",
       "  <thead>\n",
       "    <tr style=\"text-align: right;\">\n",
       "      <th></th>\n",
       "      <th>Date</th>\n",
       "      <th>Monday</th>\n",
       "      <th>Tuesday</th>\n",
       "      <th>Wednesday</th>\n",
       "      <th>Thursday</th>\n",
       "      <th>Friday</th>\n",
       "    </tr>\n",
       "  </thead>\n",
       "  <tbody>\n",
       "    <tr>\n",
       "      <th>0</th>\n",
       "      <td>3/2/2020</td>\n",
       "      <td>97.697502</td>\n",
       "      <td>95.449501</td>\n",
       "      <td>98.791496</td>\n",
       "      <td>96.2015</td>\n",
       "      <td>95.054497</td>\n",
       "    </tr>\n",
       "    <tr>\n",
       "      <th>1</th>\n",
       "      <td>3/9/2020</td>\n",
       "      <td>90.030502</td>\n",
       "      <td>94.591003</td>\n",
       "      <td>91.042999</td>\n",
       "      <td>83.830498</td>\n",
       "      <td>89.25</td>\n",
       "    </tr>\n",
       "    <tr>\n",
       "      <th>2</th>\n",
       "      <td>3/16/2020</td>\n",
       "      <td>84.457497</td>\n",
       "      <td>90.391998</td>\n",
       "      <td>91.500000</td>\n",
       "      <td>94.046501</td>\n",
       "      <td>92.304497</td>\n",
       "    </tr>\n",
       "    <tr>\n",
       "      <th>3</th>\n",
       "      <td>3/23/2020</td>\n",
       "      <td>95.141502</td>\n",
       "      <td>97.004997</td>\n",
       "      <td>94.292000</td>\n",
       "      <td>97.774498</td>\n",
       "      <td>95.004997</td>\n",
       "    </tr>\n",
       "    <tr>\n",
       "      <th>4</th>\n",
       "      <td>3/30/2020</td>\n",
       "      <td>98.197502</td>\n",
       "      <td>97.486000</td>\n",
       "      <td>95.385002</td>\n",
       "      <td>95.941498</td>\n",
       "      <td>95.329498</td>\n",
       "    </tr>\n",
       "  </tbody>\n",
       "</table>\n",
       "</div>"
      ],
      "text/plain": [
       "        Date     Monday    Tuesday   Wednesday    Thursday      Friday\n",
       "0   3/2/2020  97.697502  95.449501   98.791496     96.2015   95.054497\n",
       "1   3/9/2020  90.030502  94.591003   91.042999   83.830498       89.25\n",
       "2  3/16/2020  84.457497  90.391998   91.500000   94.046501   92.304497\n",
       "3  3/23/2020  95.141502  97.004997   94.292000   97.774498   95.004997\n",
       "4  3/30/2020  98.197502  97.486000   95.385002   95.941498   95.329498"
      ]
     },
     "execution_count": 9,
     "metadata": {},
     "output_type": "execute_result"
    }
   ],
   "source": [
    "path = \"../../data/raw/amzn.csv\"\n",
    "df = pd.read_csv(path)\n",
    "df.head()"
   ]
  },
  {
   "cell_type": "code",
   "execution_count": 10,
   "id": "fab9ce05",
   "metadata": {},
   "outputs": [],
   "source": [
    " with open(path, newline='') as file:\n",
    "    reader = csv.reader(file)\n",
    "    # skip header row\n",
    "    next(reader, None)\n",
    "    # append list of strings into list\n",
    "    data = []\n",
    "    for row in reader:\n",
    "        data.append(row)"
   ]
  },
  {
   "cell_type": "code",
   "execution_count": 26,
   "id": "7f254ff0",
   "metadata": {},
   "outputs": [
    {
     "data": {
      "text/plain": [
       "[['3/2/2020',\n",
       "  ' 97.697502',\n",
       "  ' 95.449501',\n",
       "  ' 98.791496',\n",
       "  ' 96.2015',\n",
       "  ' 95.054497'],\n",
       " ['3/9/2020',\n",
       "  ' 90.030502',\n",
       "  ' 94.591003',\n",
       "  ' 91.042999',\n",
       "  ' 83.830498',\n",
       "  ' 89.25'],\n",
       " ['3/16/2020',\n",
       "  ' 84.457497',\n",
       "  ' 90.391998',\n",
       "  ' 91.5',\n",
       "  ' 94.046501',\n",
       "  ' 92.304497'],\n",
       " ['3/23/2020',\n",
       "  ' 95.141502',\n",
       "  ' 97.004997',\n",
       "  ' 94.292',\n",
       "  ' 97.774498',\n",
       "  ' 95.004997'],\n",
       " ['3/30/2020',\n",
       "  ' 98.197502',\n",
       "  ' 97.486',\n",
       "  ' 95.385002',\n",
       "  ' 95.941498',\n",
       "  ' 95.329498'],\n",
       " ['4/6/2020', ' 99.879501', ' 100.580002', ' 102.150002', ' 102.138', ' '],\n",
       " ['4/13/2020',\n",
       "  ' 108.443497',\n",
       "  ' 114.166',\n",
       "  ' 115.384003',\n",
       "  ' 120.4095',\n",
       "  ' 118.75'],\n",
       " ['4/20/2020',\n",
       "  ' 119.680496',\n",
       "  ' 116.405998',\n",
       "  ' 118.1745',\n",
       "  ' 119.972504',\n",
       "  ' 120.511002'],\n",
       " ['4/27/2020', ' 118.800003', ' 115.704002', ' 118.635498', ' ', '']]"
      ]
     },
     "execution_count": 26,
     "metadata": {},
     "output_type": "execute_result"
    }
   ],
   "source": [
    "data"
   ]
  },
  {
   "cell_type": "code",
   "execution_count": 34,
   "id": "38f0b2bf",
   "metadata": {},
   "outputs": [
    {
     "name": "stdout",
     "output_type": "stream",
     "text": [
      " 97.697502\n",
      " 95.449501\n",
      " 98.791496\n",
      " 96.2015\n",
      " 95.054497\n",
      " 90.030502\n",
      " 94.591003\n",
      " 91.042999\n",
      " 83.830498\n",
      " 89.25\n",
      " 84.457497\n",
      " 90.391998\n",
      " 91.5\n",
      " 94.046501\n",
      " 92.304497\n",
      " 95.141502\n",
      " 97.004997\n",
      " 94.292\n",
      " 97.774498\n",
      " 95.004997\n",
      " 98.197502\n",
      " 97.486\n",
      " 95.385002\n",
      " 95.941498\n",
      " 95.329498\n",
      " 99.879501\n",
      " 100.580002\n",
      " 102.150002\n",
      " 102.138\n",
      " 108.443497\n",
      " 114.166\n",
      " 115.384003\n",
      " 120.4095\n",
      " 118.75\n",
      " 119.680496\n",
      " 116.405998\n",
      " 118.1745\n",
      " 119.972504\n",
      " 120.511002\n",
      " 118.800003\n",
      " 115.704002\n",
      " 118.635498\n"
     ]
    }
   ],
   "source": [
    "average_values = []\n",
    "for row in data:\n",
    "    convert_value_to_float = []\n",
    "    for value in row:\n",
    "        if value != \"\" and  value.strip().replace(\".\", \"\").isdigit():  # Check if it's not empty and is a valid number\n",
    "            print(value)\n",
    "            convert_value_to_float.append(float(value))\n",
    "    \n",
    "      # Calculate the average and round it to the nearest 3rd decimal place\n",
    "    if converted_values_to_float:\n",
    "        average = round(sum(converted_values_to_float) / len(converted_values_to_float), 3)\n",
    "        average_values.append(average)"
   ]
  },
  {
   "cell_type": "code",
   "execution_count": 28,
   "id": "c764410c",
   "metadata": {},
   "outputs": [
    {
     "data": {
      "text/plain": [
       "[118.800003, 115.704002, 118.635498]"
      ]
     },
     "execution_count": 28,
     "metadata": {},
     "output_type": "execute_result"
    }
   ],
   "source": [
    "convert_value_to_float"
   ]
  },
  {
   "cell_type": "code",
   "execution_count": 35,
   "id": "b0c63df7",
   "metadata": {},
   "outputs": [
    {
     "data": {
      "text/plain": [
       "[118.800003, 115.704002, 118.635498]"
      ]
     },
     "execution_count": 35,
     "metadata": {},
     "output_type": "execute_result"
    }
   ],
   "source": [
    "convert_value_to_float"
   ]
  },
  {
   "cell_type": "code",
   "execution_count": null,
   "id": "8be0f839",
   "metadata": {},
   "outputs": [],
   "source": []
  }
 ],
 "metadata": {
  "kernelspec": {
   "display_name": "Python 3 (ipykernel)",
   "language": "python",
   "name": "python3"
  },
  "language_info": {
   "codemirror_mode": {
    "name": "ipython",
    "version": 3
   },
   "file_extension": ".py",
   "mimetype": "text/x-python",
   "name": "python",
   "nbconvert_exporter": "python",
   "pygments_lexer": "ipython3",
   "version": "3.11.5"
  }
 },
 "nbformat": 4,
 "nbformat_minor": 5
}
